{
  "nbformat": 4,
  "nbformat_minor": 0,
  "metadata": {
    "colab": {
      "name": "YoloV4-Custom_Train.ipynb",
      "provenance": [],
      "collapsed_sections": []
    },
    "kernelspec": {
      "name": "python3",
      "display_name": "Python 3"
    },
    "accelerator": "GPU"
  },
  "cells": [
    {
      "cell_type": "markdown",
      "metadata": {
        "id": "IFF-Onwsn1UD",
        "colab_type": "text"
      },
      "source": [
        "How to train YOLOv4 on a dataset of your own. \n"
      ]
    },
    {
      "cell_type": "code",
      "metadata": {
        "id": "igSOh2Kf2nVs",
        "colab_type": "code",
        "colab": {}
      },
      "source": [
        "## clone the pytorch implementation of YOLOv4 - this one is by Roboflow\n",
        "!git clone https://github.com/Tianxiaomo/pytorch-YOLOv4.git\n",
        "\n",
        "# install the requirements listed in their github repo\n",
        "!pip install -r /content/pytorch-YOLOv4/requirements.txt\n",
        "\n",
        "## and some extra ones you need but are not in the list for some reason\n",
        "!pip install tensorboard\n",
        "!pip install torchvision==0.5.0\n",
        "!pip install tensorboardX\n",
        "\n",
        "## if prompts you to restart runtime just go ahead and do that"
      ],
      "execution_count": null,
      "outputs": []
    },
    {
      "cell_type": "code",
      "metadata": {
        "id": "ujQqx8Y22_kN",
        "colab_type": "code",
        "colab": {
          "base_uri": "https://localhost:8080/",
          "height": 51
        },
        "outputId": "1c25a2f6-28e9-495a-cdf4-18d8c99f5409"
      },
      "source": [
        "# make sure youre in the repo, we're going to download data here\n",
        "%cd /content/pytorch-YOLOv4\n",
        "# !pwd\n",
        "# !rm -rf __MACOSX/\n",
        "# !rm -rf raccoon_data/\n",
        "# !unzip \"raccoon_data 2.zip\"\n",
        "# !ls checkpoints/\n",
        "# !cp checkpoints/Yolov4_epoch6.pth ."
      ],
      "execution_count": null,
      "outputs": [
        {
          "output_type": "stream",
          "text": [
            "/content/pytorch-YOLOv4\n",
            "Yolov4_epoch1.pth  Yolov4_epoch6.pth\n"
          ],
          "name": "stdout"
        }
      ]
    },
    {
      "cell_type": "markdown",
      "metadata": {
        "id": "o6FV-wfLoPAe",
        "colab_type": "text"
      },
      "source": [
        "get your data set either using roboflow link or manually download to your machine and upload. \n"
      ]
    },
    {
      "cell_type": "code",
      "metadata": {
        "id": "iZWrgHzQ3FMY",
        "colab_type": "code",
        "colab": {
          "base_uri": "https://localhost:8080/",
          "height": 85
        },
        "outputId": "9c14e809-9017-48b6-c07e-1d6282dafb61"
      },
      "source": [
        "# download yolov4 weights that have already been converted to Python\n",
        "## thank you to https://github.com/Tianxiaomo for converting the darknet model to pytorch for us!!!\n",
        "!gdown https://drive.google.com/uc?id=1fcbR0bWzYfIEdLJPzOsn4R5mlvR6IQyA"
      ],
      "execution_count": null,
      "outputs": [
        {
          "output_type": "stream",
          "text": [
            "Downloading...\n",
            "From: https://drive.google.com/uc?id=1fcbR0bWzYfIEdLJPzOsn4R5mlvR6IQyA\n",
            "To: /content/pytorch-YOLOv4/yolov4.conv.137.pth\n",
            "170MB [00:00, 172MB/s]\n"
          ],
          "name": "stdout"
        }
      ]
    },
    {
      "cell_type": "code",
      "metadata": {
        "id": "9KCYHF1P4LHE",
        "colab_type": "code",
        "colab": {
          "base_uri": "https://localhost:8080/",
          "height": 408
        },
        "outputId": "fa52181f-7274-49a0-9681-07b9c72fd880"
      },
      "source": [
        "## CHANGE CFG.PY USE_DARKNET = FALS\n",
        "## also adjust batch and subdivision here\n",
        "\n",
        "\n",
        "!python train.py -b 4 -l 0.001 -g 0 -pretrained /content/pytorch-YOLOv4/Yolov4_epoch6.pth -classes 1 -dir /content/pytorch-YOLOv4/raccoon_data/train -epoch 120"
      ],
      "execution_count": null,
      "outputs": [
        {
          "output_type": "stream",
          "text": [
            "Exception ignored in: <function _get_module_lock.<locals>.cb at 0x7f07fdc42b70>\n",
            "Traceback (most recent call last):\n",
            "  File \"<frozen importlib._bootstrap>\", line 177, in cb\n",
            "log file path:log/log_2020-07-22_04-55-45.txt\n",
            "2020-07-22 04:55:45,030 train.py[line:433] INFO: Using device cuda\n",
            "2020-07-22 04:55:48,305 train.py[line:278] INFO: Starting training:\n",
            "        Epochs:          120\n",
            "        Batch size:      4\n",
            "        Subdivisions:    1\n",
            "        Learning rate:   0.001\n",
            "        Training size:   570\n",
            "        Validation size: 12\n",
            "        Checkpoints:     True\n",
            "        Device:          cuda\n",
            "        Images size:     416\n",
            "        Optimizer:       adam\n",
            "        Dataset classes: 1\n",
            "        Train label path:train.txt\n",
            "        Pretrained:\n",
            "    \n",
            "Epoch 1/120:   0%|       | 0/570 [00:00<?, ?img/s]OpenCV can't augment image: 416 x 416\n",
            "OpenCV can't augment image: 416 x 416\n",
            "^C\n"
          ],
          "name": "stdout"
        }
      ]
    },
    {
      "cell_type": "code",
      "metadata": {
        "id": "PQgiBxKjEJcs",
        "colab_type": "code",
        "colab": {
          "base_uri": "https://localhost:8080/",
          "height": 34
        },
        "outputId": "f6306136-0fac-4e05-ff0a-10c07474d60d"
      },
      "source": [
        "#choose random test image\n",
        "import os\n",
        "test_images = [f for f in os.listdir('raccoon_data/test') if f.endswith('.jpg')]\n",
        "import random\n",
        "img_path = \"raccoon_data/test/\" + random.choice(test_images);\n",
        "print(img_path)\n",
        "# !pwd"
      ],
      "execution_count": null,
      "outputs": [
        {
          "output_type": "stream",
          "text": [
            "raccoon_data/test/raccoon-2_jpg.rf.89cdbcfcdf894565f39ca46d59c23bbe.jpg\n"
          ],
          "name": "stdout"
        }
      ]
    },
    {
      "cell_type": "code",
      "metadata": {
        "id": "aNdhnOBW6GyA",
        "colab_type": "code",
        "colab": {
          "base_uri": "https://localhost:8080/",
          "height": 85
        },
        "outputId": "d9a2a091-1df9-48af-fa06-296d9d658b98"
      },
      "source": [
        "%%time\n",
        "##change the epoch here to the one you would like to use for inference\n",
        "!python3 models.py 1 Yolov4_epoch51.pth '2ae70bd62e4a05c3950b1d73ece34865.jpg' raccoon_data/train/_classes.txt"
      ],
      "execution_count": null,
      "outputs": [
        {
          "output_type": "stream",
          "text": [
            "raccoon: 1.000000\n",
            "save plot results to predictions.jpg\n",
            "CPU times: user 23 ms, sys: 7.46 ms, total: 30.5 ms\n",
            "Wall time: 6.45 s\n"
          ],
          "name": "stdout"
        }
      ]
    },
    {
      "cell_type": "code",
      "metadata": {
        "id": "zjp7Y5wV6f_h",
        "colab_type": "code",
        "colab": {
          "base_uri": "https://localhost:8080/",
          "height": 37
        },
        "outputId": "410a21d7-1c20-4dbf-a7e1-c05884081cbc"
      },
      "source": [
        "from IPython.display import Image\n",
        "Image('predictions.jpg')"
      ],
      "execution_count": null,
      "outputs": [
        {
          "output_type": "execute_result",
          "data": {
            "image/png": "predictions.jpg",
            "text/plain": [
              "<IPython.core.display.Image object>"
            ]
          },
          "metadata": {
            "tags": []
          },
          "execution_count": 1
        }
      ]
    },
    {
      "cell_type": "code",
      "metadata": {
        "id": "WYqEmVu36uiD",
        "colab_type": "code",
        "colab": {}
      },
      "source": [
        ""
      ],
      "execution_count": null,
      "outputs": []
    }
  ]
}